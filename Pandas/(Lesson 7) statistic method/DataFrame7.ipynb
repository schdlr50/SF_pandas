{
 "cells": [
  {
   "cell_type": "code",
   "execution_count": 1,
   "metadata": {},
   "outputs": [
    {
     "name": "stdout",
     "output_type": "stream",
     "text": [
      "1075684.079455081\n",
      "10.0\n",
      "Total income of real estate agencies: 1752934775.88\n",
      "21.205713983546193\n",
      "0    3\n",
      "Name: Rooms, dtype: int64\n",
      "0    Southern Metropolitan\n",
      "Name: Regionname, dtype: object\n",
      "6\n",
      "10\n"
     ]
    },
    {
     "data": {
      "text/plain": [
       "0    3.0\n",
       "Name: Bedroom, dtype: float64"
      ]
     },
     "execution_count": 1,
     "metadata": {},
     "output_type": "execute_result"
    }
   ],
   "source": [
    "import pandas as pd\n",
    "\n",
    "melb_data=pd.read_csv('data/melb_data.csv', sep=',')\n",
    "print(melb_data['Price'].mean()) # вычислим среднюю цену в датасете\n",
    "print(melb_data['Car'].max()) # найдем максимальное кол-во парковочных мест\n",
    "rate=0.12 # ввели переменную - ставка для риэлторов\n",
    "income=melb_data['Price'].sum()*rate # считаем прибыль до вычета ставки\n",
    "print('Total income of real estate agencies:', round(income,2)) # выводим итог на экран\n",
    "\n",
    "landsize_medium=melb_data['Landsize'].mean() # смотрим среднюю площадь\n",
    "landsize_median=melb_data['Landsize'].median() # смотрим площадь по медиане\n",
    "print((abs((landsize_medium-landsize_median)/landsize_medium))*100) # считаем насколько медианная площадь территории отличается от её среднего значения(в процентах)\n",
    "# Отклонение медианы от среднего значения на 21% является довольно большим, и это повод задуматься над тем, чтобы исследовать признак на наличие аномалий\n",
    "\n",
    "print(melb_data['Rooms'].mode()) # смотрим по методу mode какое кол-во комнат чаще всего указано в датасете\n",
    "print(melb_data['Regionname'].mode()) # находим самое распространённое название района\n",
    "melb_data['Propertycount'].max() # находим макисмальное коль-во домов в районичке\n",
    "print(round(melb_data['Distance'].std())) # находим среднее отклонение(разброс) по расстоянию от центра\n",
    "\n",
    "buildingarea_medium=melb_data['BuildingArea'].mean() # смотрим среднюю площадь здания\n",
    "buildingarea_median=melb_data['BuildingArea'].median() # смотрим медийное значение площади здания\n",
    "print(round((abs((buildingarea_medium-buildingarea_median)/buildingarea_medium))*100)) #насколько медийная площаль здания отличается от ёё среднего значения(в проецнтах)\n",
    "\n",
    "melb_data['Bedroom'].mode()\n",
    "123"
   ]
  }
 ],
 "metadata": {
  "kernelspec": {
   "display_name": "Python 3",
   "language": "python",
   "name": "python3"
  },
  "language_info": {
   "codemirror_mode": {
    "name": "ipython",
    "version": 3
   },
   "file_extension": ".py",
   "mimetype": "text/x-python",
   "name": "python",
   "nbconvert_exporter": "python",
   "pygments_lexer": "ipython3",
   "version": "3.11.2"
  },
  "orig_nbformat": 4
 },
 "nbformat": 4,
 "nbformat_minor": 2
}

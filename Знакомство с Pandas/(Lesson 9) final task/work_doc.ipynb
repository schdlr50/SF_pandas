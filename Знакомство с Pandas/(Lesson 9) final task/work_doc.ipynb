{
 "cells": [
  {
   "cell_type": "code",
   "execution_count": 58,
   "metadata": {},
   "outputs": [
    {
     "name": "stdout",
     "output_type": "stream",
     "text": [
      "<class 'pandas.core.frame.DataFrame'>\n",
      "RangeIndex: 1000 entries, 0 to 999\n",
      "Data columns (total 8 columns):\n",
      " #   Column                       Non-Null Count  Dtype \n",
      "---  ------                       --------------  ----- \n",
      " 0   gender                       1000 non-null   object\n",
      " 1   race/ethnicity               1000 non-null   object\n",
      " 2   parental level of education  1000 non-null   object\n",
      " 3   lunch                        1000 non-null   object\n",
      " 4   test preparation course      1000 non-null   object\n",
      " 5   math score                   1000 non-null   int64 \n",
      " 6   reading score                1000 non-null   int64 \n",
      " 7   writing score                1000 non-null   int64 \n",
      "dtypes: int64(3), object(5)\n",
      "memory usage: 62.6+ KB\n"
     ]
    },
    {
     "name": "stderr",
     "output_type": "stream",
     "text": [
      "C:\\Users\\User\\AppData\\Local\\Temp\\ipykernel_11492\\325795744.py:3: FutureWarning: In a future version of pandas all arguments of read_csv except for the argument 'filepath_or_buffer' will be keyword-only.\n",
      "  data_stud=pd.read_csv('data/students_performance.csv', ',')\n"
     ]
    },
    {
     "data": {
      "text/html": [
       "<div>\n",
       "<style scoped>\n",
       "    .dataframe tbody tr th:only-of-type {\n",
       "        vertical-align: middle;\n",
       "    }\n",
       "\n",
       "    .dataframe tbody tr th {\n",
       "        vertical-align: top;\n",
       "    }\n",
       "\n",
       "    .dataframe thead th {\n",
       "        text-align: right;\n",
       "    }\n",
       "</style>\n",
       "<table border=\"1\" class=\"dataframe\">\n",
       "  <thead>\n",
       "    <tr style=\"text-align: right;\">\n",
       "      <th></th>\n",
       "      <th>gender</th>\n",
       "      <th>race/ethnicity</th>\n",
       "      <th>parental level of education</th>\n",
       "      <th>lunch</th>\n",
       "      <th>test preparation course</th>\n",
       "      <th>math score</th>\n",
       "      <th>reading score</th>\n",
       "      <th>writing score</th>\n",
       "    </tr>\n",
       "  </thead>\n",
       "  <tbody>\n",
       "    <tr>\n",
       "      <th>59</th>\n",
       "      <td>female</td>\n",
       "      <td>group C</td>\n",
       "      <td>some high school</td>\n",
       "      <td>free/reduced</td>\n",
       "      <td>none</td>\n",
       "      <td>0</td>\n",
       "      <td>17</td>\n",
       "      <td>10</td>\n",
       "    </tr>\n",
       "  </tbody>\n",
       "</table>\n",
       "</div>"
      ],
      "text/plain": [
       "    gender race/ethnicity parental level of education         lunch  \\\n",
       "59  female        group C            some high school  free/reduced   \n",
       "\n",
       "   test preparation course  math score  reading score  writing score  \n",
       "59                    none           0             17             10  "
      ]
     },
     "metadata": {},
     "output_type": "display_data"
    },
    {
     "name": "stdout",
     "output_type": "stream",
     "text": [
      "False\n",
      "58.92112676056338\n",
      "70.03410852713178\n",
      "-6\n"
     ]
    }
   ],
   "source": [
    "import pandas as pd\n",
    "\n",
    "data_stud=pd.read_csv('data/students_performance.csv', ',')\n",
    "data_stud.info()\n",
    "data_stud.head()\n",
    "\n",
    "# небольшое инфо по исходному сету:\n",
    "# 1 гендерная принадлежность(пол)\n",
    "# 2 раса/этническая принадлежность\n",
    "# 3 уровень образования родителей\n",
    "# 4 какие обеды получал студент во время обучения (standard — платный, free/reduced — бесплатный)\n",
    "# 5 посещал ли студент курсы подготовки к экзаменам (none — не посещал, completed — посещал)\n",
    "# 6 баллы по математике, чтению и письму по сто балльной шкале\n",
    "\n",
    "# 1-е задание: о каком кол-ве студнетов в сете данных:\n",
    "data_stud.tail(1)\n",
    "\n",
    "# 2-е задание: каков балл по письму у студента под индексом 155\n",
    "data_stud.loc[155, 'writing score']\n",
    "\n",
    "# 3-е задание: Сколько суммарно пропущенных значений в таблице\n",
    "# из инфо видно что таковых нет\n",
    "\n",
    "# 4-е задание: Сколько столбцов в таблице имеет тип данных object?\n",
    "# из инфо видно что таких 5\n",
    "\n",
    "# 5-е задание: Какой объём памяти (в килобайтах) занимает таблица\n",
    "# из инфо видно - 63\n",
    "\n",
    "# 6-е задание: Каков у студентов средний балл по математике\n",
    "data_stud['math score'].mean()\n",
    "\n",
    "# 7-е задание: Какая расовая группа является самой крупной в учебном заведении\n",
    "data_stud['race/ethnicity'].mode()\n",
    "\n",
    "# 8-е задание: Каков средний балл по чтению у студентов, которые посещали курсы подготовки к экзаменам\n",
    "data_stud[data_stud['test preparation course'] == 'completed']['reading score'].mean()\n",
    "\n",
    "# 9-е задание: Сколько студентов получили 0 баллов по математике\n",
    "mask=data_stud['math score'] == 0\n",
    "display(data_stud[mask])\n",
    "\n",
    "# 10-е задание: Проверьте гипотезу: у студентов с оплачиваемым питанием средний балл по математике выше, чем у студентов с льготным питанием.В качестве ответа напишите наибольший средний балл по математике среди этих групп студентов\n",
    "a=data_stud[(data_stud['lunch'] == 'free/reduced')]['math score'].mean()\n",
    "b=data_stud[(data_stud['lunch'] == 'standard')]['math score'].mean()\n",
    "if a > b :\n",
    "    print('True')\n",
    "print('False')\n",
    "a1=a.max()\n",
    "b1=b.max()\n",
    "print(a1)\n",
    "print(b1)\n",
    "\n",
    "# 11-е задание: Каков процент студентов, родители которых имеют высшее образование уровня бакалавриата (bachelor's degree)?\n",
    "data_stud['parental level of education'].value_counts(normalize=True)*100\n",
    "\n",
    "# 12-е задание: Насколько медианный балл по письму у студентов в расовой группе А отличается от среднего балла по письму у студентов в расовой группе C?(ответ по модулю)\n",
    "c=data_stud[(data_stud['race/ethnicity'] == 'group A')]['writing score'].median()\n",
    "d=data_stud[(data_stud['race/ethnicity'] == 'group C')]['writing score'].mean()\n",
    "print(round(c-d))"
   ]
  }
 ],
 "metadata": {
  "kernelspec": {
   "display_name": "Python 3",
   "language": "python",
   "name": "python3"
  },
  "language_info": {
   "codemirror_mode": {
    "name": "ipython",
    "version": 3
   },
   "file_extension": ".py",
   "mimetype": "text/x-python",
   "name": "python",
   "nbconvert_exporter": "python",
   "pygments_lexer": "ipython3",
   "version": "3.11.2"
  },
  "orig_nbformat": 4
 },
 "nbformat": 4,
 "nbformat_minor": 2
}
